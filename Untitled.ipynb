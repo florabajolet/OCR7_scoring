{
 "cells": [
  {
   "cell_type": "code",
   "execution_count": 4,
   "id": "779976d4",
   "metadata": {},
   "outputs": [],
   "source": [
    "import pandas as pd\n",
    "import numpy as np\n",
    "import matplotlib as mpl\n",
    "import matplotlib.pyplot as plt\n",
    "import seaborn as sns\n",
    "from scipy import stats\n",
    "from fonctions_eda import *\n",
    "from bokeh.layouts import gridplot\n",
    "from bokeh.plotting import figure, show, output_file\n",
    "from bokeh.io import output_notebook, push_notebook, show\n",
    "import time\n",
    "import gc\n",
    "import os\n",
    "import sys"
   ]
  },
  {
   "cell_type": "code",
   "execution_count": 2,
   "id": "d320a471",
   "metadata": {},
   "outputs": [],
   "source": [
    "path_to_csv = \"\""
   ]
  },
  {
   "cell_type": "code",
   "execution_count": 5,
   "id": "83a39480",
   "metadata": {},
   "outputs": [],
   "source": [
    "path_app_train = os.path.join(path_to_csv, \"application_train.csv\")"
   ]
  },
  {
   "cell_type": "code",
   "execution_count": 6,
   "id": "112bc0d9",
   "metadata": {},
   "outputs": [],
   "source": [
    "app_train = pd.read_csv(path_app_train, encoding=\"utf-8\")"
   ]
  },
  {
   "cell_type": "code",
   "execution_count": 7,
   "id": "422ad814",
   "metadata": {},
   "outputs": [],
   "source": [
    "hist, edges = np.histogram(app_train.AMT_CREDIT, density=True, bins=20)"
   ]
  },
  {
   "cell_type": "code",
   "execution_count": 8,
   "id": "7e6e1d1a",
   "metadata": {},
   "outputs": [],
   "source": [
    "def make_plot(title, hist, edges):\n",
    "    p = figure(title=title, plot_width=600, plot_height=400)\n",
    "    p.quad(top=hist, bottom=0, left=edges[:-1], right=edges[1:],\n",
    "           fill_color=\"navy\", line_color=\"white\", alpha=0.5)\n",
    "    #p.line(x, pdf, line_color=\"#ff8888\", line_width=4, alpha=0.7, legend_label=\"PDF\")\n",
    "    #p.line(x, cdf, line_color=\"orange\", line_width=2, alpha=0.7, legend_label=\"CDF\")\n",
    "\n",
    "    p.y_range.start = 0\n",
    "    #p.legend.location = \"center_right\"\n",
    "    #p.legend.background_fill_color = \"#fefefe\"\n",
    "    p.xaxis.axis_label = 'x'\n",
    "    p.yaxis.axis_label = 'Pr(x)'\n",
    "    p.grid.grid_line_color=\"grey\"\n",
    "    show(p)"
   ]
  },
  {
   "cell_type": "code",
   "execution_count": 9,
   "id": "cf1603ae",
   "metadata": {},
   "outputs": [],
   "source": [
    "make_plot(\"blabla\", hist, edges)"
   ]
  },
  {
   "cell_type": "code",
   "execution_count": null,
   "id": "ce7a6ad0",
   "metadata": {},
   "outputs": [],
   "source": []
  }
 ],
 "metadata": {
  "kernelspec": {
   "display_name": "Python 3",
   "language": "python",
   "name": "python3"
  },
  "language_info": {
   "codemirror_mode": {
    "name": "ipython",
    "version": 3
   },
   "file_extension": ".py",
   "mimetype": "text/x-python",
   "name": "python",
   "nbconvert_exporter": "python",
   "pygments_lexer": "ipython3",
   "version": "3.8.8"
  }
 },
 "nbformat": 4,
 "nbformat_minor": 5
}
